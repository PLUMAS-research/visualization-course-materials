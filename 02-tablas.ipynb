{
 "cells": [
  {
   "cell_type": "markdown",
   "metadata": {},
   "source": [
    "# Visualización de Tablas"
   ]
  },
  {
   "cell_type": "markdown",
   "metadata": {},
   "source": [
    "En este notebook nos haremos preguntas sobre el _dataset_ Encuesta Origen-Destino de Santiago 2012, también conocida como EOD2012. Esta encuesta fue realizada para la [Secretaría de Transporte](https://www.sectra.gob.cl/biblioteca/detalle1.asp?mfn=3253)."
   ]
  },
  {
   "cell_type": "markdown",
   "metadata": {},
   "source": [
    "## Preámbulo"
   ]
  },
  {
   "cell_type": "code",
   "execution_count": 2,
   "metadata": {},
   "outputs": [],
   "source": [
    "from pathlib import Path\n",
    "\n",
    "EOD_PATH = Path(\"data\") / \"EOD_STGO\""
   ]
  },
  {
   "cell_type": "code",
   "execution_count": 3,
   "metadata": {},
   "outputs": [],
   "source": [
    "import matplotlib.pyplot as plt\n",
    "import pandas as pd\n",
    "import seaborn as sns\n",
    "\n",
    "from chiricoca.config import setup_style\n",
    "\n",
    "setup_style()"
   ]
  },
  {
   "cell_type": "markdown",
   "metadata": {},
   "source": [
    "## Datos"
   ]
  },
  {
   "cell_type": "markdown",
   "metadata": {},
   "source": [
    "La EOD2012 contiene varias base de datos. Cargaremos primero la de _personas_."
   ]
  },
  {
   "cell_type": "code",
   "execution_count": null,
   "metadata": {},
   "outputs": [],
   "source": [
    "import huedhued.eod_scl as eod\n",
    "\n",
    "personas = eod.read_people(EOD_PATH)\n",
    "personas"
   ]
  },
  {
   "cell_type": "markdown",
   "metadata": {},
   "source": [
    "Noten que cada persona tiene un identificador único `Persona` y un identificador no único `Hogar`. \n",
    "\n",
    "Le agregaremos dos atributos a la tabla:\n",
    "\n",
    "* `Edad`: atributo cuantitativo definido como el año 2013 menos el año de nacimiento.\n",
    "* `GrupoEtareo`: atributo ordinal definido como grupos de edad de 5 años. Se calcula a partir de `Edad` con la operación módulo."
   ]
  },
  {
   "cell_type": "code",
   "execution_count": null,
   "metadata": {},
   "outputs": [],
   "source": [
    "personas[\"Edad\"] = 2013 - personas[\"AnoNac\"]\n",
    "\n",
    "personas[\"GrupoEtareo\"] = personas[\"Edad\"] - (personas[\"Edad\"] % 5)\n",
    "personas[\"GrupoEtareo\"].value_counts()"
   ]
  },
  {
   "cell_type": "markdown",
   "metadata": {},
   "source": [
    "También leeremos la tabla de _hogares_. En esta tabla, cada fila representa a un hogar, esta vez con identificador `Hogar` único."
   ]
  },
  {
   "cell_type": "code",
   "execution_count": null,
   "metadata": {},
   "outputs": [],
   "source": [
    "hogares = eod.read_homes(EOD_PATH)\n",
    "hogares"
   ]
  },
  {
   "cell_type": "markdown",
   "metadata": {},
   "source": [
    "Finalmente cargamos la tabla de _viajes_, que tiene un viaje en cada fila. Cada `Viaje` es único, fue hecho por una `Persona`, que vive en un `Hogar`."
   ]
  },
  {
   "cell_type": "code",
   "execution_count": null,
   "metadata": {},
   "outputs": [],
   "source": [
    "viajes = eod.read_trips(EOD_PATH)\n",
    "viajes"
   ]
  },
  {
   "cell_type": "markdown",
   "metadata": {},
   "source": [
    "Los identificadores nos permiten cruzar las tres tablas y crear una sola, que llamaremos `tabla_completa`."
   ]
  },
  {
   "cell_type": "code",
   "execution_count": 8,
   "metadata": {},
   "outputs": [],
   "source": [
    "tabla_completa = (viajes.merge(personas)).merge(hogares.drop(\"TipoDia\", axis=1))"
   ]
  },
  {
   "cell_type": "code",
   "execution_count": null,
   "metadata": {},
   "outputs": [],
   "source": [
    "tabla_completa.sample(5)"
   ]
  },
  {
   "cell_type": "markdown",
   "metadata": {},
   "source": [
    "Utilizaremos esta tabla para la mayoría de los análisis en este notebook.\n",
    "\n",
    "Sin embargo, antes de seguir nos preguntaremos: ¿a quién representa la encuesta? ¿Cómo entrevistar a un subconjunto de la población nos permite hacer análisis representativos de esta?\n",
    "\n",
    "La respuesta está en los _factores de expansión_. Estos números se definen como:\n",
    "\n",
    "> [...] la capacidad que tiene cada individuo seleccionado en una muestra probabilística para representar el universo en el cual esta contenido. Es decir, es la magnitud de representación que cada selección posee para describir una parte del universo de estudio. [Fuente](https://catalog.ihsn.org/index.php/catalog/5265/download/64548).\n",
    "\n",
    "En la muestra hay factores de expansión para cada tipo de entidad (persona, hogar, viaje). Por ejemplo:"
   ]
  },
  {
   "cell_type": "code",
   "execution_count": null,
   "metadata": {},
   "outputs": [],
   "source": [
    "tabla_completa[['FactorExpansion', 'FactorPersona']].describe()"
   ]
  },
  {
   "cell_type": "markdown",
   "metadata": {},
   "source": [
    "Para calcular el peso o representatividad de un viaje debemos multiplicar de su factor de expansión (_qué tan frecuente ese tipo de viaje es_) y el del factor de expansión de cada persona (_qué tan representativa de otras personas es_).\n",
    "\n",
    "Además hay factores de expansión para días de semana, sábado, domingo, y periodos estival (vacaciones) y normal. Trabajaremos con los periodos normales. Guardaremos el factor de expansión completo en la columna `Peso`."
   ]
  },
  {
   "cell_type": "code",
   "execution_count": null,
   "metadata": {},
   "outputs": [],
   "source": [
    "viajes.groupby('TipoDia')['FactorExpansion'].describe()"
   ]
  },
  {
   "cell_type": "code",
   "execution_count": null,
   "metadata": {},
   "outputs": [],
   "source": [
    "tabla_completa[\"Peso\"] = tabla_completa[\"FactorExpansion\"] * tabla_completa[\"FactorPersona\"]\n",
    "tabla_completa.groupby('TipoDia')['Peso'].describe()"
   ]
  },
  {
   "cell_type": "markdown",
   "metadata": {},
   "source": [
    "Ahora comencemos a responder preguntas.\n",
    "\n",
    "## ¿Cuál es la distribución de uso de modo de transporte en viajes al trabajo?\n",
    "\n",
    "Una pregunta relevante siempre, porque las ciudades cambian constantemente, En tiempos de COVID-19 estuvo en debate si el uso de transporte público es un foco de contagio. Entender la distribución de usos de transporte por comuna es importante para la definición de estrategias de desconfinamiento. En la actualidad, con una expansión urbana y un cambio en la composición poblacional (hay más migrantes, la población ha envejecido), los patrones de viaje no son necesariamente los de antes.\n",
    "\n",
    "Aunque, cierto, los que tiene la encuesta son los oficiales. Así que necesitamos conocerlos de todos modos.\n",
    "\n",
    "Debemos calcular la distribución de uso de modos de transporte por comuna, pero primero debemos preguntarnos: ¿cuáles viajes analizaremos? El título indica que nos interesan los viajes al trabajo, ya que son viajes recurrentes. \n",
    "\n",
    "¿Cuántos tipos de viaje hay?"
   ]
  },
  {
   "cell_type": "code",
   "execution_count": null,
   "metadata": {},
   "outputs": [],
   "source": [
    "tabla_completa['Proposito'].value_counts(normalize=True)"
   ]
  },
  {
   "cell_type": "code",
   "execution_count": null,
   "metadata": {},
   "outputs": [],
   "source": [
    "total_viajes = (\n",
    "    tabla_completa.groupby(\"Proposito\")[\"Peso\"]\n",
    "    .sum()\n",
    "    .astype(int)\n",
    "    .sort_values(ascending=False)\n",
    ")\n",
    "\n",
    "total_viajes / total_viajes.sum()"
   ]
  },
  {
   "cell_type": "markdown",
   "metadata": {},
   "source": [
    "La columna `ModoDifusion` contiene el modo de transporte."
   ]
  },
  {
   "cell_type": "code",
   "execution_count": null,
   "metadata": {},
   "outputs": [],
   "source": [
    "modo_comuna = (\n",
    "    # filtramos viajes al trabajo\n",
    "    tabla_completa[tabla_completa[\"Proposito\"] == \"Al trabajo\"]\n",
    "    # una persona puede tener múltiples viajes al trabajo durante el día.\n",
    "    # por ejemplo, cuando sale a almorzar y después vuelve.\n",
    "    # ese viaje no es relevante para este análisis.\n",
    "    .drop_duplicates(subset=\"Persona\", keep=\"first\")\n",
    "    # agrupamos por comuna y modo de transporte\n",
    "    .groupby([\"Comuna\", \"ModoDifusion\"])\n",
    "    # sumamos los factores de expansión\n",
    "    [\"Peso\"].sum()\n",
    "    # convertimos a una matriz\n",
    "    .unstack(fill_value=0)\n",
    ")\n",
    "\n",
    "modo_comuna"
   ]
  },
  {
   "cell_type": "markdown",
   "metadata": {},
   "source": [
    "Veamos esta tabla como un gráfico que nos permita comparar la distribución por comunas. Usemos el método `plot` de `pandas`:"
   ]
  },
  {
   "cell_type": "code",
   "execution_count": null,
   "metadata": {},
   "outputs": [],
   "source": [
    "modo_comuna.plot()"
   ]
  },
  {
   "cell_type": "markdown",
   "metadata": {},
   "source": [
    "No es útil. No respeta lo que hemos visto en clases: utiliza líneas para conectar categorías, pero la pendiente no tiene significado."
   ]
  },
  {
   "cell_type": "code",
   "execution_count": null,
   "metadata": {},
   "outputs": [],
   "source": [
    "modo_comuna.plot(kind='bar', linewidth=0, stacked=True)"
   ]
  },
  {
   "cell_type": "code",
   "execution_count": null,
   "metadata": {},
   "outputs": [],
   "source": [
    "modo_comuna.plot(kind='barh', linewidth=0, stacked=True)"
   ]
  },
  {
   "cell_type": "markdown",
   "metadata": {},
   "source": [
    "En `chiricoca` tenemos un método `barchart` que hace esto mismo pero de una manera que no oculta el utilizar `matplotlib` (y que, por lo mismo, más adelante veremos que podemos combinar con otros gráficos):"
   ]
  },
  {
   "cell_type": "code",
   "execution_count": null,
   "metadata": {},
   "outputs": [],
   "source": [
    "from chiricoca.tables import barchart\n",
    "\n",
    "ax = barchart(\n",
    "    modo_comuna,\n",
    "    stacked=True,\n",
    "    sort_categories=True,\n",
    "    sort_items=True,\n",
    "    horizontal=True\n",
    ")\n",
    "\n",
    "ax.set_title(\"Uso de Modo de Transporte en Viajes al Trabajo\")\n",
    "ax.set_ylabel(\"\")\n",
    "ax.set_xlabel(\"Cantidad de Viajes\")"
   ]
  },
  {
   "cell_type": "markdown",
   "metadata": {},
   "source": [
    "¡Es un gráfico interesante! Sin embargo está complejo, ya que cuesta diferenciar y comparar las distintas categorías. Creemos una categorización más sencilla que nos permita comparar mejor:"
   ]
  },
  {
   "cell_type": "code",
   "execution_count": null,
   "metadata": {},
   "outputs": [],
   "source": [
    "tabla_completa[\"ModoAgregado\"] = tabla_completa[\"ModoDifusion\"].map(\n",
    "    {\n",
    "        \"Taxi\": \"Taxi\",\n",
    "        \"Bip! - Otros Privado\": \"Público\",\n",
    "        \"Bip!\": \"Público\",\n",
    "        \"Bip! - Otros Público\": \"Público\",\n",
    "        \"Taxi Colectivo\": \"Taxi\",\n",
    "        \"Bicicleta\": \"Activo\",\n",
    "        \"Caminata\": \"Activo\",\n",
    "        \"Auto\": \"Auto\",\n",
    "        \"Otros\": \"Otros\",\n",
    "    }\n",
    ")\n",
    "\n",
    "modo_comuna = (\n",
    "    tabla_completa[tabla_completa[\"Proposito\"] == \"Al trabajo\"]\n",
    "    .drop_duplicates(subset=[\"Persona\"], keep=\"first\")\n",
    "    .groupby([\"Comuna\", \"ModoAgregado\"])\n",
    "    [\"Peso\"].sum()\n",
    "    .unstack(fill_value=0)\n",
    ")\n",
    "\n",
    "modo_comuna"
   ]
  },
  {
   "cell_type": "code",
   "execution_count": null,
   "metadata": {},
   "outputs": [],
   "source": [
    "ax = barchart(\n",
    "    modo_comuna,\n",
    "    stacked=True,\n",
    "    sort_categories=True,\n",
    "    sort_items=True,\n",
    "    horizontal=True\n",
    ")\n",
    "\n",
    "ax.set_title(\"Uso de Modo de Transporte en Viajes al Trabajo\")\n",
    "ax.set_ylabel(\"\")\n",
    "ax.set_xlabel(\"# de Viajes\")"
   ]
  },
  {
   "cell_type": "code",
   "execution_count": null,
   "metadata": {},
   "outputs": [],
   "source": [
    "ax = barchart(\n",
    "    modo_comuna,\n",
    "    stacked=True,\n",
    "    normalize=True,\n",
    "    sort_categories=True,\n",
    "    sort_items=True,\n",
    "    horizontal=True\n",
    ")\n",
    "\n",
    "ax.set_title(\"Uso de Modo de Transporte en Viajes al Trabajo\")\n",
    "ax.set_ylabel(\"\")\n",
    "ax.set_xlabel(\"Fracción de los Viajes\")"
   ]
  },
  {
   "cell_type": "code",
   "execution_count": null,
   "metadata": {},
   "outputs": [],
   "source": [
    "from chiricoca.base.weights import variance_stabilization\n",
    "\n",
    "sns.heatmap(modo_comuna.pipe(variance_stabilization), center=0)"
   ]
  },
  {
   "cell_type": "markdown",
   "metadata": {},
   "source": [
    "Verlo nos lleva a preguntarnos si existe una relación entre las propiedades de una comuna y su uso de transporte público.\n",
    "\n",
    "Para ello calcularemos el ingreso promedio en cada comuna. Al igual que con los viajes, debemos utilizar el ingreso considerando los factores de expansión:"
   ]
  },
  {
   "cell_type": "code",
   "execution_count": null,
   "metadata": {},
   "outputs": [],
   "source": [
    "ingreso_por_comuna = (\n",
    "    hogares.groupby(\"Comuna\")\n",
    "    .apply(\n",
    "        lambda x: (x[\"FactorHogar\"] * x[\"IngresoHogar\"]).sum() / x[\"FactorHogar\"].sum()\n",
    "    )\n",
    "    .rename(\"ingreso\")\n",
    "    .astype(int)\n",
    ")\n",
    "\n",
    "ingreso_por_comuna.sort_values()\n"
   ]
  },
  {
   "cell_type": "markdown",
   "metadata": {},
   "source": [
    "Ahora que tenemos esta serie, podemos hacer un cruce entre las dos tablas que hemos calculado. utilizamos la función `normalize_rows` para normalizar los valores de cada comuna, y así poder compararlas:"
   ]
  },
  {
   "cell_type": "code",
   "execution_count": null,
   "metadata": {},
   "outputs": [],
   "source": [
    "from chiricoca.base.weights import normalize_rows\n",
    "\n",
    "modo_comuna_ingreso = modo_comuna.pipe(normalize_rows).join(ingreso_por_comuna)\n",
    "modo_comuna_ingreso\n"
   ]
  },
  {
   "cell_type": "markdown",
   "metadata": {},
   "source": [
    "Para comparar el uso de transporte público y el ingreso poddemos utilizar un `scatterplot`:"
   ]
  },
  {
   "cell_type": "code",
   "execution_count": null,
   "metadata": {},
   "outputs": [],
   "source": [
    "modo_comuna_ingreso.plot(x=\"ingreso\", y=\"Público\", kind=\"scatter\")\n"
   ]
  },
  {
   "cell_type": "markdown",
   "metadata": {},
   "source": [
    "Aunque nos gustaría saber cuál es la comuna que corresponde a cada punto, el gráfico no lo dice. Además el eje `x` utiliza una notación que nos impide apreciar los valores totales. Para ello podemos utilizar el método `scatterplot` en `chiricoca`, en conjunto con configuraciones de matplotlib:"
   ]
  },
  {
   "cell_type": "code",
   "execution_count": 27,
   "metadata": {},
   "outputs": [],
   "source": [
    "from chiricoca.tables import scatterplot"
   ]
  },
  {
   "cell_type": "code",
   "execution_count": null,
   "metadata": {},
   "outputs": [],
   "source": [
    "ax = scatterplot(\n",
    "    modo_comuna_ingreso,\n",
    "    \"ingreso\",\n",
    "    \"Público\",\n",
    "    annotate=True,\n",
    "    avoid_collisions=True,\n",
    "    label_args=dict(fontsize=\"small\"),\n",
    "    scatter_args=dict(color=\"purple\"),\n",
    ")\n",
    "\n",
    "ax.set_xlabel(\"Ingreso Promedio por Hogar\")\n",
    "ax.set_ylabel(\"Proporción de Uso de Transporte Público\")\n",
    "ax.set_title(\n",
    "    \"Relación entre Uso de Transporte Público e Ingreso por Comunas de RM (Fuente: EOD2012)\"\n",
    ")\n",
    "ax.grid(alpha=0.5)\n",
    "ax.ticklabel_format(style=\"plain\")"
   ]
  },
  {
   "cell_type": "markdown",
   "metadata": {},
   "source": [
    "Observamos que los tres grupos de uso de transporte público son: las comunas fuera del radio urbano (esquina inferior izquierda), que no son más ricas que el resto y no usan transantiago porque no llega a ellas; las comunas ricas (inferior derecha), que casi no usan transporte público a pesar de estar bien conectadas; y el resto, que presenta tasas variables de uso de transporte público.\n",
    "  "
   ]
  },
  {
   "cell_type": "markdown",
   "metadata": {},
   "source": [
    "Vimos en clase el _ternary plot_. Podemos intentar hacer uno, utilizando la biblioteca `python-ternary`. Todavía me falta hacer una función dentro de `chiricoca` que la utilice a cabalidad, pero aquí hay una primera versión:"
   ]
  },
  {
   "cell_type": "code",
   "execution_count": null,
   "metadata": {},
   "outputs": [],
   "source": [
    "from chiricoca.tables.ternary import ternary_scatter\n",
    "\n",
    "ternary_scatter(\n",
    "    modo_comuna[[\"Activo\", \"Auto\", \"Público\"]].pipe(normalize_rows),\n",
    "    s=modo_comuna_ingreso[\"ingreso\"].div(modo_comuna_ingreso[\"ingreso\"].max()) * 1000,\n",
    ")"
   ]
  },
  {
   "cell_type": "markdown",
   "metadata": {},
   "source": [
    "El resultado es interesante, pero le falta trabajo: ¿cómo etiquetar los ejes para que sean interpretables? ¿Cómo evitar que las etiquetas de los puntos se intersecten? También hace falta incorporar una leyenda que permita saber qué significa el tamaño de los puntos."
   ]
  },
  {
   "cell_type": "markdown",
   "metadata": {},
   "source": [
    "## ¿Cuáles son las rutinas en la ciudad?\n",
    "\n",
    "Para mejorar el funcionamiento de una ciudad es clave entender qué se hace en ella y cuándo.\n",
    "\n",
    "Sabemos que el qué se hace está codificado en el atributo categórico `Proposito`. También sabemos que el atributo categórico `DiaAsig` se refiere al día que está asignado a la persona que responde la encuesta (al día de sus viajes)."
   ]
  },
  {
   "cell_type": "code",
   "execution_count": null,
   "metadata": {},
   "outputs": [],
   "source": [
    "tabla_completa[\"DiaAsig\"]"
   ]
  },
  {
   "cell_type": "markdown",
   "metadata": {},
   "source": [
    "Definiremos una rutina como la distribución de viajes por tipo de propósito en cada unidad de análisis (en este caso, un día).\n",
    "\n",
    "Utilizaremos operaciones `groupby` para calcular esa distribución para cada uno de los días de la semana, en periodo normal."
   ]
  },
  {
   "cell_type": "code",
   "execution_count": null,
   "metadata": {},
   "outputs": [],
   "source": [
    "tabla_completa['Proposito'].value_counts().plot(kind='barh')"
   ]
  },
  {
   "cell_type": "code",
   "execution_count": null,
   "metadata": {},
   "outputs": [],
   "source": [
    "rutinas = (\n",
    "    tabla_completa\n",
    "    .groupby([\"DiaAsig\", \"Proposito\"])[\"Peso\"]\n",
    "    .sum()\n",
    "    .unstack()\n",
    "    .loc[[\"lunes\", \"martes\", \"miércoles\", \"jueves\", \"viernes\", \"sábado\", \"domingo\"]]\n",
    "    # eliminaremos los viajes de volver a casa y de tipo otra actividad porque no ayudan a caracterizar las rutinas diarias.\n",
    "    .drop([\"volver a casa\", \"Otra actividad (especifique)\"], axis=1)\n",
    ")\n",
    "\n",
    "rutinas\n"
   ]
  },
  {
   "cell_type": "markdown",
   "metadata": {},
   "source": [
    "¿Cómo visualizar esta tabla? Una manera directa es utilizar el método `plot` de pandas, que usará un `linechart`. Veamos como luce:"
   ]
  },
  {
   "cell_type": "code",
   "execution_count": null,
   "metadata": {},
   "outputs": [],
   "source": [
    "rutinas.plot()\n"
   ]
  },
  {
   "cell_type": "markdown",
   "metadata": {},
   "source": [
    "No se ve bonito, pero tampoco configuramos nada del gráfico, solamente lo ejecutamos para tener una noción de cómo se verían los datos. \n",
    "\n",
    "A pesar de que podríamos utilizar líneas, ya que la progresión de lunes a domingo es ordinal y puede ser interpolada, no tiene un significado relevante para nosotros de acuerdo a la definición de rutina. Además la cantidad de categorías en los datos hace difícil distinguir una línea de otra.\n",
    "\n",
    "Podemos hacer la misma exploración, esta vez con un `barchart`:"
   ]
  },
  {
   "cell_type": "markdown",
   "metadata": {},
   "source": [
    "Ahora bien, ¿buscamos es identificar patrones relativos? En tal caso, podemos probar con un gráfico normalizado:"
   ]
  },
  {
   "cell_type": "code",
   "execution_count": null,
   "metadata": {},
   "outputs": [],
   "source": [
    "barchart(rutinas, stacked=True, normalize=True, sort_categories=True)\n"
   ]
  },
  {
   "cell_type": "markdown",
   "metadata": {},
   "source": [
    "Al usar un gráfico relativo encontramos diferencias que antes no parecían tan notorias. Por ejemplo, en proporción, los viajes de recreación son más frecuentes los fines de semana que de lunes a viernes. En el gráfico absoluto se notaba un ligero incremento, pero quizás lo interesante es que, así como suben los de recreación, bajan mucho los demás. \n",
    "\n",
    "Lo mismo sucede con visitar a alguien e ir de compras.\n",
    "\n",
    "El gráfico de barras podría ser suficiente si lo que queremos es determinar si hay diferencias entre las rutinas. Con esta última versión, sabemos que son diferentes, y tenemos una noción de cuáles son las diferencias.\n",
    "\n",
    "Sin embargo, si nuestra tarea consistiese en identificar elementos específicos de las rutinas, como puede ser _conocer los valores exactos de la distribución_, o _agrupar actividades de acuerdo a su distribución en varios días_, entonces debemos buscar otra alternativa.\n",
    "\n",
    "Exploremos como luce un heatmap en este caso:"
   ]
  },
  {
   "cell_type": "code",
   "execution_count": null,
   "metadata": {},
   "outputs": [],
   "source": [
    "from chiricoca.tables.heatmap import heatmap\n",
    "\n",
    "heatmap(rutinas)\n"
   ]
  },
  {
   "cell_type": "markdown",
   "metadata": {},
   "source": [
    "Lo que hicimos en el gráfico de barras fue normalizar las columnas de la tabla. Podemos hacer lo mismo. Y luego trasponerla para facilitar la lectura. Quedaría así:"
   ]
  },
  {
   "cell_type": "code",
   "execution_count": null,
   "metadata": {},
   "outputs": [],
   "source": [
    "from chiricoca.base.weights import normalize_columns\n",
    "\n",
    "heatmap(rutinas.pipe(normalize_columns).T)\n"
   ]
  },
  {
   "cell_type": "markdown",
   "metadata": {},
   "source": [
    "Observamos que este heatmap nos permite apreciar las variaciones diarias en la proporción. Si lo configuramos para que muestre más información y tenga mejor apariencia podría ser el gráfico final de la tarea:"
   ]
  },
  {
   "cell_type": "code",
   "execution_count": null,
   "metadata": {},
   "outputs": [],
   "source": [
    "ax = heatmap(\n",
    "    rutinas.pipe(normalize_columns).T,\n",
    "    annot=True,\n",
    "    fmt=\".2f\",\n",
    "    linewidth=0.5,\n",
    ")\n",
    "\n",
    "ax.set_ylabel(\"\")\n",
    "ax.set_xlabel(\"\")\n",
    "ax.set_title(\"Rutinas Diarias en Santiago\")\n"
   ]
  },
  {
   "cell_type": "markdown",
   "metadata": {},
   "source": [
    "Ese gráfico ya está terminado: podemos ver patrones globales gracias a la escala de colores, y podemos comparar e identificar valores específicos gracias a las anotaciones.\n",
    "\n",
    "Todavía nos falta poder agrupar las actividades (o filas de la matriz) de acuerdo a su similitud. Afortunadamente lo podemos lograr cambiando el método empleado: usar un `clustermap` en vez de un `heatmap`:"
   ]
  },
  {
   "cell_type": "code",
   "execution_count": null,
   "metadata": {},
   "outputs": [],
   "source": [
    "ax = heatmap(\n",
    "    rutinas.pipe(normalize_columns).T,\n",
    "    annot=True,\n",
    "    fmt=\".2f\",\n",
    "    linewidth=0.5,\n",
    "    cluster_rows=True\n",
    ")\n",
    "\n",
    "ax.set_ylabel(\"\")\n",
    "ax.set_xlabel(\"\")\n",
    "ax.set_title(\"Rutinas Diarias en Santiago\")\n"
   ]
  },
  {
   "cell_type": "markdown",
   "metadata": {},
   "source": [
    "## ¿Son diferentes las rutinas entre hombres y mujeres? (_lollipop_: un gráfico no visto)\n",
    "\n",
    "Una primera aproximación es mirar la cantidad de viajes."
   ]
  },
  {
   "cell_type": "code",
   "execution_count": 39,
   "metadata": {},
   "outputs": [],
   "source": [
    "from chiricoca.base.weights import weighted_mean"
   ]
  },
  {
   "cell_type": "code",
   "execution_count": null,
   "metadata": {},
   "outputs": [],
   "source": [
    "tabla_completa['FactorPersona']"
   ]
  },
  {
   "cell_type": "code",
   "execution_count": null,
   "metadata": {},
   "outputs": [],
   "source": [
    "personas.groupby(\"Sexo\").apply(\n",
    "    lambda x: x[\"Viajes\"].value_counts().sort_index()\n",
    ").unstack(fill_value=0).T.plot(kind=\"barh\")"
   ]
  },
  {
   "cell_type": "code",
   "execution_count": null,
   "metadata": {},
   "outputs": [],
   "source": [
    "personas['Viajes'].mean(), weighted_mean(personas, 'Viajes', 'FactorPersona')"
   ]
  },
  {
   "cell_type": "code",
   "execution_count": null,
   "metadata": {},
   "outputs": [],
   "source": [
    "viajes_por_sexo = (\n",
    "    personas.merge(hogares)\n",
    "    .groupby([\"Sexo\", \"Sector\"])\n",
    "    .apply(lambda x: weighted_mean(x, \"Viajes\", \"FactorPersona\"))\n",
    "    .unstack()\n",
    "    .T\n",
    ")\n",
    "viajes_por_sexo"
   ]
  },
  {
   "cell_type": "code",
   "execution_count": null,
   "metadata": {},
   "outputs": [],
   "source": [
    "fig, ax = plt.subplots()\n",
    "\n",
    "ax.plot(viajes_por_sexo['Hombre'], marker='o', linestyle='none')\n",
    "ax.plot(viajes_por_sexo['Mujer'], marker='s', linestyle='none')\n",
    "ax.vlines(x=viajes_por_sexo.index, ymin=viajes_por_sexo['Hombre'], ymax=viajes_por_sexo['Mujer'], color='grey')"
   ]
  },
  {
   "cell_type": "code",
   "execution_count": null,
   "metadata": {},
   "outputs": [],
   "source": [
    "fig, ax = plt.subplots()\n",
    "\n",
    "plot_df = viajes_por_sexo\n",
    "plot_df = viajes_por_sexo.assign(diff=lambda x: x['Mujer'] - x['Hombre']).sort_values('diff')\n",
    "\n",
    "plot_index = range(len(plot_df))\n",
    "\n",
    "ax.scatter(x=plot_df['Hombre'], y=plot_index, marker='o', label='Hombres', color='orange', zorder=2)\n",
    "ax.scatter(x=plot_df['Mujer'], y=plot_index, marker='s', label='Mujeres', color='green', zorder=2)\n",
    "ax.hlines(y=plot_index, xmin=plot_df['Hombre'], xmax=plot_df['Mujer'], color='grey', zorder=1)\n",
    "\n",
    "ax.set_yticks(plot_index, labels=plot_df.index)\n",
    "ax.grid(linestyle='dotted', alpha=0.5, zorder=0)\n",
    "\n",
    "ax.legend()\n",
    "\n",
    "sns.despine(ax=ax, left=True)\n",
    "ax.set_title('¿Cuántos viajes hacen hombres y mujeres?', loc='left')\n",
    "ax.set_xlabel('Cantidad de viajes')\n",
    "\n",
    "fig.tight_layout()"
   ]
  },
  {
   "cell_type": "markdown",
   "metadata": {},
   "source": [
    "## ¿Qué hacen las personas durante el día?\n",
    "\n",
    "Inspirándonos en el ejemplo de visualización del New York Times sobre cómo son los días de las personas, nos preguntamos: **¿Qué hacen las personas durante el día?** Podemos aproximarlo utilizando los datos de la encuesta. Para ello tendremos que calcular para cada minuto del día qué está haciendo cada persona y calcular la distribución por minuto.\n",
    "\n",
    "Tenemos todo lo necesario: la hora de inicio del viaje `HoraIni`, su duración `TiempoViaje` (en minutos) y el `Proposito`. Necesitaremos lo siguiente de pandas:\n",
    "\n",
    "* La clase `Timedelta` y las funciones `to_timedelta` y `timedelta_range` para ayudarnos a calcular lo que está haciendo una persona.\n",
    "* `shift` para combinar una celda con la previa/siguiente, de modo de poder determinar las actividades.\n",
    "\n",
    "Tendremos una versión incompleta y queda propuesto para ustedes completarla y extender su análisis.\n",
    "\n",
    "Primero, es necesario construir una tabla de actividades. Una actividad es lo que sucede _después_ del viaje, es el motivo por el que se realiza un viaje. Como tenemos viajes, debemos construir las actividades a partir de ellos."
   ]
  },
  {
   "cell_type": "code",
   "execution_count": null,
   "metadata": {},
   "outputs": [],
   "source": [
    "tabla_completa.columns"
   ]
  },
  {
   "cell_type": "code",
   "execution_count": null,
   "metadata": {},
   "outputs": [],
   "source": [
    "tabla_completa['TipoDia']"
   ]
  },
  {
   "cell_type": "code",
   "execution_count": null,
   "metadata": {},
   "outputs": [],
   "source": [
    "from huedhued.time import time_matrix\n",
    "\n",
    "matriz_de_tiempo = time_matrix(tabla_completa[tabla_completa['TipoDia'] == 'Laboral'])\n",
    "matriz_de_tiempo"
   ]
  },
  {
   "cell_type": "code",
   "execution_count": null,
   "metadata": {},
   "outputs": [],
   "source": [
    "heatmap(matriz_de_tiempo.T.pipe(normalize_columns), cluster_rows=True)"
   ]
  },
  {
   "cell_type": "code",
   "execution_count": null,
   "metadata": {},
   "outputs": [],
   "source": [
    "df_datetime = matriz_de_tiempo.set_index(\n",
    "    pd.to_datetime(matriz_de_tiempo.index.total_seconds(), unit=\"s\")\n",
    ")\n",
    "\n",
    "df_datetime.index"
   ]
  },
  {
   "cell_type": "code",
   "execution_count": 51,
   "metadata": {},
   "outputs": [],
   "source": [
    "dia_base = df_datetime.index[0].date()\n",
    "hora_inicio = pd.Timestamp(dia_base).replace(hour=5, minute=0)\n",
    "hora_fin = pd.Timestamp(dia_base + pd.Timedelta(days=1)).replace(hour=0, minute=0)"
   ]
  },
  {
   "cell_type": "code",
   "execution_count": 52,
   "metadata": {},
   "outputs": [],
   "source": [
    "vis_df = df_datetime[\n",
    "    (df_datetime.index >= hora_inicio) & (df_datetime.index <= hora_fin)\n",
    "]"
   ]
  },
  {
   "cell_type": "code",
   "execution_count": null,
   "metadata": {},
   "outputs": [],
   "source": [
    "from chiricoca.tables import streamgraph\n",
    "import matplotlib.dates as mdates\n",
    "\n",
    "ax = streamgraph(\n",
    "    vis_df,\n",
    "    baseline=\"zero\",\n",
    "    palette=\"husl\",\n",
    "    sort_areas=\"max\",\n",
    "    fig_args=dict(figsize=(8, 4)),\n",
    "    legend=True,\n",
    ")\n",
    "\n",
    "def configurar_ax(ax):\n",
    "    # Configurar formato de hora\n",
    "    hora_fmt = mdates.DateFormatter(\"%H:%M\")\n",
    "    ax.xaxis.set_major_formatter(hora_fmt)\n",
    "\n",
    "    # Especificar manualmente los ticks para asegurar que aparezca medianoche\n",
    "    horas = list(range(5, 24)) + [0]  # 6 AM hasta medianoche (0)\n",
    "    fechas_ticks = [pd.Timestamp(dia_base).replace(hour=h) for h in horas[:-1]] + [hora_fin]\n",
    "    ax.set_xticks(fechas_ticks)\n",
    "\n",
    "    ax.grid(True, linestyle=\"dotted\", color=\"#efefef\")\n",
    "    ax.set_title(\"¿Qué hacen los y las santiaguinas en un día laboral?\", loc=\"left\")\n",
    "    ax.set_ylabel(\"Proporción de las actividades\")\n",
    "\n",
    "configurar_ax(ax)"
   ]
  },
  {
   "cell_type": "code",
   "execution_count": null,
   "metadata": {},
   "outputs": [],
   "source": [
    "ax = streamgraph(\n",
    "    vis_df,\n",
    "    normalize=True,\n",
    "    baseline=\"zero\",\n",
    "    avoid_label_collisions=True,\n",
    "    palette=\"flare\",\n",
    "    sort_areas=\"peak_time\",\n",
    "    area_args=dict(edgecolor=\"black\", linewidth=0.25),\n",
    "    fig_args=dict(figsize=(8, 4)),\n",
    "    legend=True\n",
    ")\n",
    "\n",
    "configurar_ax(ax)"
   ]
  },
  {
   "cell_type": "markdown",
   "metadata": {},
   "source": [
    "¡Es un buen comienzo! Sin embargo, todavía falta mucho por hacer. Algunas ideas:\n",
    "\n",
    "- ¿Hay diferencias de género, edad y otros grupos?\n",
    "- El gráfico no normalizado debiese tener siempre la misma cantidad de personas en cada instante del día. Entonces, ¿Cómo incluir a la gente que no realizó viajes? ¿Cómo incluir el antes y el después de los viajes? \n",
    "\n",
    "Las mejoras al gráfico de tipo estético y funcional las veremos en las siguientes clases."
   ]
  },
  {
   "cell_type": "markdown",
   "metadata": {},
   "source": [
    "## Sobre herramientas y Python\n",
    "\n",
    "Con estas herramientas podemos explorar las relaciones que hay entre las variables de nuestro dataset. Concluimos que la mayor dificultad no está en _implementar_ las visualizaciones, sino en, primero, **saber qué preguntarle a los datos**, y segundo, **elegir los métodos adecuados para responder la pregunta**. Probablemente seaborn, pandas o matplotlib tienen dicha solución implementada, o al menos a unos pasos de ser implementada. También podemos utilizar los métodos implementados en `chiricoca`.\n",
    "\n",
    "El siguiente paso es entender cómo se comportan estos métodos con otras variables del dataset. También hemos probado distintos valores para atributos de apariencia, como los tamaños de figura y las paletas de colores.\n",
    "\n",
    "Una dificultad en el aprendizaje es que no existen estándares para nombrar a los métodos y sus parámetros. Por ejemplo, el parámetro de la paleta de colores se suele llamar `cmap` en `matplotlib` y `pandas`, pero se llama `palette` en casi todos los métodos de `seaborn` --- digo casi todos porque algunos también usan `cmap`. Esto puede ser confuso para aprender, y creo que de momento no hay una solución más que ejercitar y aprenderse los nombres de parámetros y de métodos que sean más adecuados para la tarea a resolver."
   ]
  },
  {
   "cell_type": "markdown",
   "metadata": {},
   "source": []
  }
 ],
 "metadata": {
  "kernelspec": {
   "display_name": "aves",
   "language": "python",
   "name": "python3"
  },
  "language_info": {
   "codemirror_mode": {
    "name": "ipython",
    "version": 3
   },
   "file_extension": ".py",
   "mimetype": "text/x-python",
   "name": "python",
   "nbconvert_exporter": "python",
   "pygments_lexer": "ipython3",
   "version": "3.11.6"
  }
 },
 "nbformat": 4,
 "nbformat_minor": 4
}
