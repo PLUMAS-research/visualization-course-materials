{
 "cells": [
  {
   "cell_type": "markdown",
   "metadata": {},
   "source": [
    "# Reducción de Complejidad e Interactividad\n",
    "\n",
    "En este notebook exploraremos las siguientes técnicas:\n",
    "\n",
    "- _Small Multiples_ o yuxtaposición de gráficos que utilizan la misma codificación visual, pero a diferentes subconjuntos de un dataset\n",
    "- _Symbol Map_ o superimposición de gráficos que utilizan distinta codificación visual, pero del mismo dataset (aunque pueden ser atributos diferentes los puntos focales de cada vis.)\n",
    "- _Widgets_, elementos de control que permiten actualizar una visualización de manera interactiva.\n",
    "\n",
    "Usaremos la Encuesta Origen-Destino 2012 de Santiago."
   ]
  },
  {
   "cell_type": "code",
   "execution_count": null,
   "metadata": {},
   "outputs": [],
   "source": [
    "import os\n",
    "from pathlib import Path\n",
    "from chiricoca.config import setup_style\n",
    "\n",
    "setup_style()\n",
    "\n",
    "DATA_PATH = Path(\"data\")\n",
    "EOD_PATH = DATA_PATH / \"EOD_STGO\"\n",
    "EOD_PATH"
   ]
  },
  {
   "cell_type": "code",
   "execution_count": null,
   "metadata": {},
   "outputs": [],
   "source": [
    "import matplotlib.pyplot as plt\n",
    "import pandas as pd\n",
    "import seaborn as sns\n",
    "\n",
    "import huedhued.eod_scl as eod\n",
    "from chiricoca.base.weights import normalize_rows, normalize_columns"
   ]
  },
  {
   "cell_type": "code",
   "execution_count": null,
   "metadata": {},
   "outputs": [],
   "source": [
    "viajes = eod.read_trips(EOD_PATH)\n",
    "\n",
    "# descartamos sectores que no sean relevantes en los orígenes y destinos de los viajes\n",
    "viajes = viajes[\n",
    "    (viajes[\"SectorOrigen\"] != \"Exterior a RM\")\n",
    "    & (viajes[\"SectorDestino\"] != \"Exterior a RM\")\n",
    "    & (viajes[\"SectorOrigen\"] != \"Extensión Sur-Poniente\")\n",
    "    & (viajes[\"SectorDestino\"] != \"Extensión Sur-Poniente\")\n",
    "    & pd.notnull(viajes[\"SectorOrigen\"])\n",
    "    & pd.notnull(viajes[\"SectorDestino\"])\n",
    "]\n",
    "\n",
    "print(len(viajes))"
   ]
  },
  {
   "cell_type": "code",
   "execution_count": null,
   "metadata": {},
   "outputs": [],
   "source": [
    "personas = eod.read_people(EOD_PATH)\n",
    "hogares = eod.read_homes(EOD_PATH)\n",
    "tabla = viajes.merge(personas).merge(hogares.drop('TipoDia', axis=1))"
   ]
  },
  {
   "cell_type": "code",
   "execution_count": null,
   "metadata": {},
   "outputs": [],
   "source": [
    "tabla[\"Peso\"] = (\n",
    "    tabla[\"FactorExpansion\"] * tabla[\"FactorPersona\"]\n",
    ")"
   ]
  },
  {
   "cell_type": "markdown",
   "metadata": {},
   "source": [
    "## Derivación\n",
    "\n",
    "### ¿Existen diferencias de género en las actividades?"
   ]
  },
  {
   "cell_type": "code",
   "execution_count": null,
   "metadata": {},
   "outputs": [],
   "source": [
    "tabla.groupby(['Proposito', 'Sexo'])['Peso'].sum().unstack().astype(int).div(1000)"
   ]
  },
  {
   "cell_type": "code",
   "execution_count": null,
   "metadata": {},
   "outputs": [],
   "source": [
    "proposito_x_sexo = tabla.groupby(['Proposito', 'Sexo'])['Peso'].sum().unstack()\n",
    "proposito_x_sexo.plot(kind='barh', width=0.9)"
   ]
  },
  {
   "cell_type": "code",
   "execution_count": null,
   "metadata": {},
   "outputs": [],
   "source": [
    "(proposito_x_sexo['Hombre'] - proposito_x_sexo['Mujer']).sort_values().plot(kind='barh', width=0.9)"
   ]
  },
  {
   "cell_type": "code",
   "execution_count": null,
   "metadata": {},
   "outputs": [],
   "source": [
    "proposito_x_sexo.pipe(normalize_rows).pipe(lambda x: (x['Hombre'] - x['Mujer']) * 100).sort_values().plot(kind='barh', width=0.9, edgecolor='none')"
   ]
  },
  {
   "cell_type": "code",
   "execution_count": null,
   "metadata": {},
   "outputs": [],
   "source": [
    "fig, ax = plt.subplots()\n",
    "\n",
    "proposito_x_sexo.pipe(normalize_rows).pipe(\n",
    "    lambda x: (x[\"Hombre\"] - x[\"Mujer\"]) * 100\n",
    ").sort_values().plot(kind=\"barh\", width=0.9, edgecolor=\"none\", ax=ax)\n",
    "\n",
    "# esto permite que pongamos porcentajes sin signo\n",
    "ax.xaxis.set_major_formatter(lambda x, pos: f\"{abs(x):g}%\")\n",
    "\n",
    "# esto permite que \"centremos\" los datos en 0 (y no necesariamente al medio del gráfico) para la posición x\n",
    "ax.set_xlabel(\n",
    "    \"tendencia\\n$\\leftarrow$ mujeres $\\cdot$ hombres $\\\\rightarrow$\",\n",
    "    ha=\"center\",\n",
    "    # flashbacks de computación gráfica ;)\n",
    "    x=ax.transAxes.inverted().transform(ax.transData.transform((0, 0)))[0],\n",
    ")\n",
    "\n",
    "fig.tight_layout()"
   ]
  },
  {
   "cell_type": "markdown",
   "metadata": {},
   "source": [
    "## Small Multiples\n",
    "\n",
    "### ¿Cuáles son los perfiles etáreos asociados a los propósitos de viaje (actividades)?\n",
    "\n",
    "Para esto necesitamos calcular la edad y un grupo etáreo."
   ]
  },
  {
   "cell_type": "code",
   "execution_count": null,
   "metadata": {},
   "outputs": [],
   "source": [
    "tabla[\"Edad\"] = 2013 - tabla[\"AnoNac\"]\n",
    "tabla[\"GrupoEtareo\"] = tabla[\"Edad\"] - (tabla[\"Edad\"] % 5)\n",
    "tabla['GrupoEtareo'].value_counts().sort_index()"
   ]
  },
  {
   "cell_type": "code",
   "execution_count": null,
   "metadata": {},
   "outputs": [],
   "source": [
    "rutina_x_edad = (\n",
    "    tabla.groupby([\"GrupoEtareo\", \"Proposito\"])[\"Peso\"]\n",
    "    .sum()\n",
    "    .unstack(fill_value=0)\n",
    "    # enfoquémonos en propósitos de viaje frecuentes\n",
    "    [['Al trabajo', 'Al estudio', 'De compras', 'De salud', 'Trámites', 'Visitar a alguien', 'Recreación']]\n",
    "    .pipe(normalize_columns)\n",
    ")\n",
    "\n",
    "rutina_x_edad"
   ]
  },
  {
   "cell_type": "code",
   "execution_count": null,
   "metadata": {},
   "outputs": [],
   "source": [
    "rutina_x_edad.plot()"
   ]
  },
  {
   "cell_type": "markdown",
   "metadata": {},
   "source": [
    "Ya que el resultado es una tabla, podríamos utilizar directamente un _heatmap_:"
   ]
  },
  {
   "cell_type": "code",
   "execution_count": null,
   "metadata": {},
   "outputs": [],
   "source": [
    "res = sns.choose_colorbrewer_palette('sequential', as_cmap=True)"
   ]
  },
  {
   "cell_type": "code",
   "execution_count": null,
   "metadata": {},
   "outputs": [],
   "source": [
    "fig, ax = plt.subplots(figsize=(6, 2.5))\n",
    "sns.heatmap(rutina_x_edad.T, cmap=res, ax=ax, annot=True, fmt='.2f', annot_kws={'fontsize': 4}, linewidth=1)"
   ]
  },
  {
   "cell_type": "code",
   "execution_count": null,
   "metadata": {},
   "outputs": [],
   "source": [
    "fig, axes = plt.subplots(1, 3, figsize=(10, 3))\n",
    "axes"
   ]
  },
  {
   "cell_type": "code",
   "execution_count": null,
   "metadata": {},
   "outputs": [],
   "source": [
    "fig_ancho = 6\n",
    "fig_alto = 2\n",
    "\n",
    "fig, axes = plt.subplots(\n",
    "    len(rutina_x_edad.columns) // 2,\n",
    "    len(rutina_x_edad.columns) // 2,\n",
    "    figsize=(len(rutina_x_edad.columns) // 2 * 3, len(rutina_x_edad.columns) // 2 * fig_alto),\n",
    "    sharex=False,\n",
    "    sharey=False,\n",
    "    layout='constrained'\n",
    ")\n",
    "\n",
    "for col, ax in zip(rutina_x_edad.columns, axes.flatten()):\n",
    "    rutina_x_edad.plot(color='grey', kind='line', legend=False, linewidth=0.5, ax=ax)\n",
    "    rutina_x_edad[col].plot(ax=ax, kind=\"line\", color=\"magenta\", linewidth=2)\n",
    "    ax.set_title(col)\n",
    "    sns.despine(ax=ax)\n",
    "    ax.set_xlim([0, 100])\n",
    "    ax.set_xticks(range(0, 101, 10))\n",
    "    ax.set_xlabel(\"Edad\")\n",
    "    ax.set_ylabel(\"Fracción de viajes\")\n",
    "\n",
    "fig.align_ylabels()\n",
    "fig.tight_layout()"
   ]
  },
  {
   "cell_type": "code",
   "execution_count": null,
   "metadata": {},
   "outputs": [],
   "source": [
    "# wideform \n",
    "rutina_x_edad"
   ]
  },
  {
   "cell_type": "code",
   "execution_count": null,
   "metadata": {},
   "outputs": [],
   "source": [
    "# longform\n",
    "rutina_x_edad_longform = rutina_x_edad.stack().rename(\"n_viajes\").reset_index()\n",
    "rutina_x_edad_longform.head(5)"
   ]
  },
  {
   "cell_type": "code",
   "execution_count": null,
   "metadata": {},
   "outputs": [],
   "source": [
    "grid = sns.FacetGrid(\n",
    "    rutina_x_edad_longform,\n",
    "    col=\"Proposito\",\n",
    "    col_wrap=3,\n",
    "    aspect=2,\n",
    "    height=2.5,\n",
    "    sharey=False,\n",
    ")\n",
    "\n",
    "def plot_todos(*args, **kwargs):\n",
    "    ax = plt.gca()\n",
    "    rutina_x_edad.plot(color='grey', kind='line', legend=False, linewidth=0.5, ax=ax)\n",
    "\n",
    "grid.map(plot_todos)\n",
    "grid.map(plt.plot, \"GrupoEtareo\", \"n_viajes\", color=\"magenta\", linewidth=2)\n",
    "\n",
    "sns.despine()\n",
    "grid.set(xlim=[0, 100])\n",
    "grid.set_xlabels(\"Edad\")\n",
    "grid.set_ylabels(\"Fracción\")\n",
    "grid.set(xticks=range(0, 101, 10))\n",
    "grid.fig.align_ylabels()\n",
    "#grid.tight_layout()"
   ]
  },
  {
   "cell_type": "code",
   "execution_count": null,
   "metadata": {},
   "outputs": [],
   "source": [
    "rutina_x_edad_x_sexo = (\n",
    "    tabla[\n",
    "        tabla[\"Proposito\"].isin(\n",
    "            [\n",
    "                \"Al trabajo\",\n",
    "                \"Al estudio\",\n",
    "                \"De compras\",\n",
    "                \"De salud\",\n",
    "                \"Trámites\",\n",
    "                \"Visitar a alguien\",\n",
    "                \"Recreación\",\n",
    "            ]\n",
    "        )\n",
    "    ]\n",
    "    .groupby([\"GrupoEtareo\", \"Sexo\", \"Proposito\"])[\"Peso\"]\n",
    "    .sum()\n",
    "    .unstack(fill_value=0)\n",
    "    #.pipe(normalize_columns)\n",
    "    .stack()\n",
    "    .rename(\"n_viajes\")\n",
    "    .reset_index()\n",
    ")\n",
    "\n",
    "rutina_x_edad_x_sexo"
   ]
  },
  {
   "cell_type": "code",
   "execution_count": null,
   "metadata": {},
   "outputs": [],
   "source": [
    "grid = sns.FacetGrid(\n",
    "    rutina_x_edad_x_sexo,\n",
    "    col=\"Proposito\",\n",
    "    col_wrap=3,\n",
    "    aspect=2,\n",
    "    height=3,\n",
    "    sharey=False,\n",
    "    hue='Sexo', # HSL: Hue (tono), S (saturación), L (luminosidad)\n",
    "    palette='Set2'\n",
    ")\n",
    "\n",
    "grid.map(plt.plot, \"GrupoEtareo\", \"n_viajes\", linewidth=2)\n",
    "grid.add_legend()\n",
    "\n",
    "sns.despine()\n",
    "grid.set(xlim=[0, 100])\n",
    "grid.set_xlabels(\"Edad\")\n",
    "grid.set_ylabels(\"Fracción\")\n",
    "grid.set(xticks=range(0, 101, 10))\n",
    "grid.fig.align_ylabels()"
   ]
  },
  {
   "cell_type": "markdown",
   "metadata": {},
   "source": [
    "Observando este gráfico notamos cosas como:\n",
    "\n",
    "- El aumento de los viajes de salud con la edad hasta los 65 años. Después comienzan a disminuir (recordemos que estamos midiendo viajes relativos).\n",
    "- La mayor cantidad de personas que sale a comer o tomar algo tiene 30 años.\n",
    "- Los viajes de buscar o dejar a alguien alcanzan su valor máximo a los 40 años y luego decaen. \n",
    "- **¿Qué más observan ustedes?**\n",
    "\n",
    "Problema propuesto:\n",
    "\n",
    "- Estudiar el uso de modo de transporte (columna `ModoDifusion`) por grupo etáreo."
   ]
  },
  {
   "cell_type": "markdown",
   "metadata": {},
   "source": [
    "## Superimposición\n",
    "\n",
    "### ¿Existen patrones geográficos en los tipos de actividades que se hacen en una comuna?"
   ]
  },
  {
   "cell_type": "code",
   "execution_count": null,
   "metadata": {},
   "outputs": [],
   "source": [
    "!ls {DATA_PATH / 'comunas_rm'}"
   ]
  },
  {
   "cell_type": "code",
   "execution_count": null,
   "metadata": {},
   "outputs": [],
   "source": [
    "import geopandas as gpd\n",
    "\n",
    "comunas = gpd.read_file(DATA_PATH / 'comunas_rm' / 'COMUNA_C17.shp')\n",
    "comunas.head()"
   ]
  },
  {
   "cell_type": "code",
   "execution_count": null,
   "metadata": {},
   "outputs": [],
   "source": [
    "\n",
    "zones = gpd.read_file(EOD_PATH / 'Zonificacion_EOD2012').set_index('ID').to_crs(comunas.crs)\n",
    "zones.head()"
   ]
  },
  {
   "cell_type": "code",
   "execution_count": null,
   "metadata": {},
   "outputs": [],
   "source": [
    "from chiricoca.geo.utils import clip_area_geodataframe\n",
    "\n",
    "bounding_box = [-70.88006218, -33.67612715, -70.43015094, -33.31069169]\n",
    "comunas_urbanas = clip_area_geodataframe(comunas, bounding_box, buffer=0.001)"
   ]
  },
  {
   "cell_type": "code",
   "execution_count": null,
   "metadata": {},
   "outputs": [],
   "source": [
    "comunas_urbanas[\"NombreComuna\"] = comunas_urbanas[\"COMUNA\"].map(\n",
    "    dict(zip(zones[\"Com\"], zones[\"Comuna\"]))\n",
    ")"
   ]
  },
  {
   "cell_type": "code",
   "execution_count": null,
   "metadata": {},
   "outputs": [],
   "source": [
    "zonas_urbanas = gpd.overlay(zones, comunas_urbanas, how='intersection')"
   ]
  },
  {
   "cell_type": "code",
   "execution_count": null,
   "metadata": {},
   "outputs": [],
   "source": [
    "ax = comunas_urbanas.plot()\n",
    "zonas_urbanas.plot(ax=ax, facecolor='none', edgecolor='black', linewidth=0.5)"
   ]
  },
  {
   "cell_type": "code",
   "execution_count": null,
   "metadata": {},
   "outputs": [],
   "source": [
    "tabla['Proposito'].value_counts()"
   ]
  },
  {
   "cell_type": "code",
   "execution_count": null,
   "metadata": {},
   "outputs": [],
   "source": [
    "purposes_per_municipality = (\n",
    "    tabla.drop_duplicates(subset=[\"Persona\", \"Proposito\"], keep=\"first\")\n",
    "    .groupby([\"ComunaDestino\", \"Proposito\"])[\"Peso\"]\n",
    "    .sum()\n",
    "    .unstack(fill_value=0)\n",
    ")\n",
    "purposes_per_municipality"
   ]
  },
  {
   "cell_type": "code",
   "execution_count": null,
   "metadata": {},
   "outputs": [],
   "source": [
    "from chiricoca.tables.heatmap import heatmap\n",
    "heatmap(purposes_per_municipality.drop('volver a casa', axis=1).pipe(normalize_rows))"
   ]
  },
  {
   "cell_type": "code",
   "execution_count": null,
   "metadata": {},
   "outputs": [],
   "source": [
    "purposes_per_municipality.loc['Santiago'].plot(kind='pie')"
   ]
  },
  {
   "cell_type": "code",
   "execution_count": null,
   "metadata": {},
   "outputs": [],
   "source": [
    "trip_activities = {\n",
    "    \"Subsistencia\": [\"Al estudio\", \"Al trabajo\", \"Por trabajo\", \"Por estudio\"],\n",
    "    \"N/A\": [\"volver a casa\"],\n",
    "    \"Mantención\": [\"De compras\", \"Trámites\", \"De salud\"],\n",
    "    \"Discrecional\": [\n",
    "        \"Buscar o Dejar a alguien\",\n",
    "        \"Visitar a alguien\",\n",
    "        \"Recreación\",\n",
    "        \"Otra actividad (especifique)\",\n",
    "        \"Comer o Tomar algo\",\n",
    "        \"Buscar o dejar algo\",\n",
    "    ],\n",
    "}"
   ]
  },
  {
   "cell_type": "code",
   "execution_count": null,
   "metadata": {},
   "outputs": [],
   "source": [
    "for key, cols in trip_activities.items():\n",
    "    purposes_per_municipality[key] = purposes_per_municipality[cols].sum(axis=1)\n",
    "\n",
    "activities_per_municipality = purposes_per_municipality[\n",
    "    [\"Mantención\", \"Subsistencia\", \"Discrecional\"]\n",
    "].pipe(normalize_rows)\n",
    "activities_per_municipality"
   ]
  },
  {
   "cell_type": "code",
   "execution_count": null,
   "metadata": {},
   "outputs": [],
   "source": [
    "heatmap(activities_per_municipality, cluster_rows=True)"
   ]
  },
  {
   "cell_type": "code",
   "execution_count": null,
   "metadata": {},
   "outputs": [],
   "source": [
    "cat_colors = sns.choose_colorbrewer_palette('qualitative')"
   ]
  },
  {
   "cell_type": "code",
   "execution_count": null,
   "metadata": {},
   "outputs": [],
   "source": [
    "from matplotlib.colors import ListedColormap\n",
    "activities_per_municipality.loc[[\"Santiago\", \"La Pintana\"]].T.plot(\n",
    "    kind=\"pie\", subplots=True, cmap=ListedColormap(cat_colors[:3])\n",
    ")"
   ]
  },
  {
   "cell_type": "code",
   "execution_count": null,
   "metadata": {},
   "outputs": [],
   "source": [
    "from chiricoca.tables import barchart\n",
    "\n",
    "\n",
    "barchart(\n",
    "    activities_per_municipality,\n",
    "    stacked=True,\n",
    "    normalize=True,\n",
    "    sort_categories=True,\n",
    "    sort_items=True,\n",
    "    palette=cat_colors[:3]\n",
    ")"
   ]
  },
  {
   "cell_type": "code",
   "execution_count": null,
   "metadata": {},
   "outputs": [],
   "source": [
    "seq_colors = sns.dark_palette(cat_colors[1], n_colors=5)\n",
    "seq_colors"
   ]
  },
  {
   "cell_type": "code",
   "execution_count": null,
   "metadata": {},
   "outputs": [],
   "source": [
    "comunas_urbanas"
   ]
  },
  {
   "cell_type": "code",
   "execution_count": null,
   "metadata": {},
   "outputs": [],
   "source": [
    "from chiricoca.geo.figures import small_multiples_from_geodataframe\n",
    "from chiricoca.maps.choropleth import choropleth_map\n",
    "\n",
    "fig, axes = small_multiples_from_geodataframe(zonas_urbanas, 3, height=5)\n",
    "\n",
    "for ax, col in zip(axes.flatten(), activities_per_municipality.columns):\n",
    "    choropleth_map(\n",
    "        comunas_urbanas.join(\n",
    "            activities_per_municipality[col], on=\"NombreComuna\", how=\"inner\"\n",
    "        ),\n",
    "        col,\n",
    "        k=5,\n",
    "        palette=seq_colors,\n",
    "        ax=ax\n",
    "    )\n",
    "    ax.set_title(col)"
   ]
  },
  {
   "cell_type": "code",
   "execution_count": null,
   "metadata": {},
   "outputs": [],
   "source": [
    "activities_per_municipality = gpd.GeoDataFrame(\n",
    "    activities_per_municipality,\n",
    "    geometry=comunas_urbanas.to_crs(zones.crs).set_index(\"NombreComuna\").centroid,\n",
    ")\n",
    "\n",
    "activities_per_municipality"
   ]
  },
  {
   "cell_type": "code",
   "execution_count": null,
   "metadata": {},
   "outputs": [],
   "source": []
  },
  {
   "cell_type": "code",
   "execution_count": null,
   "metadata": {},
   "outputs": [],
   "source": [
    "poblacion = (\n",
    "    hogares.join(\n",
    "        personas.groupby(\"Hogar\")[\"FactorPersona\"].sum().rename(\"poblacion\"), on=\"Hogar\"\n",
    "    )\n",
    "    .groupby(\"Comuna\")[\"poblacion\"]\n",
    "    .sum()\n",
    ")\n",
    "poblacion"
   ]
  },
  {
   "cell_type": "code",
   "execution_count": null,
   "metadata": {},
   "outputs": [],
   "source": [
    "poblacion.index = (\n",
    "    \",\".join(poblacion.index)\n",
    "    .replace(\"CONCHALI\", \"CONCHALÍ\")\n",
    "    .replace('ESTACION CENTRAL', 'ESTACIÓN CENTRAL')\n",
    "    .replace(\"MAIPU\", \"MAIPÚ\")\n",
    "    .replace(\"PEÑALOLEN\", \"PEÑALOLÉN\")\n",
    "    .replace(\"SAN JOAQUIN\", \"SAN JOAQUÍN\")\n",
    "    .replace(\"SAN RAMON\", \"SAN RAMÓN\")\n",
    "    .split(\",\")\n",
    ")"
   ]
  },
  {
   "cell_type": "code",
   "execution_count": null,
   "metadata": {},
   "outputs": [],
   "source": [
    "from chiricoca.geo.figures import figure_from_geodataframe\n",
    "from chiricoca.colors.base import categorical_color_legend\n",
    "from chiricoca.maps import add_basemap, choropleth_map\n",
    "import matplotlib.patheffects as path_effects\n",
    "\n",
    "\n",
    "fig, ax = figure_from_geodataframe(zonas_urbanas, height=6)\n",
    "\n",
    "# add_basemap(ax, AVES_ROOT / \"data\" / \"processed\" / \"scl_positron_12_balanced.tif\", comunas_urbanas)\n",
    "\n",
    "choropleth_map(\n",
    "    comunas_urbanas.join(poblacion, on='NOM_COMUNA'),\n",
    "    \"poblacion\", palette=seq_colors, linewidth=0.5, k=5, edgecolor='black', ax=ax\n",
    ")\n",
    "\n",
    "for idx, row in activities_per_municipality.iterrows():\n",
    "    # posición en el espacio (coordenadas geográficas)\n",
    "    pos = (row[\"geometry\"].x, row[\"geometry\"].y)\n",
    "    # posición en el gráfico (coordenadas absolutas)\n",
    "    p = ax.transData.transform_point(pos)\n",
    "    # posición en la figura (coordenadas relativas)\n",
    "    p = fig.transFigure.inverted().transform_point(p)\n",
    "\n",
    "    pie_size = 0.05 # np.random.rand() * 0.1\n",
    "    pie_bounds = [p[0] - pie_size * 0.5, p[1] - pie_size * 0.5, pie_size, pie_size]\n",
    "\n",
    "    box_inset = fig.add_axes(pie_bounds, label=idx)\n",
    "\n",
    "    box_inset.pie(\n",
    "        row[[\"Mantención\", \"Subsistencia\", \"Discrecional\"]].values,\n",
    "        wedgeprops=dict(edgecolor=\"black\", linewidth=0.5),\n",
    "        colors=cat_colors[:3],\n",
    "    )\n",
    "\n",
    "    pos_y = 1.0\n",
    "    va = \"bottom\"\n",
    "\n",
    "ax.set_title(\"Actividades Realizadas en Cada Comuna\")\n",
    "\n",
    "\n",
    "categorical_color_legend(\n",
    "    ax, cat_colors[:3], [\"Mantención\", \"Subsistencia\", \"Discrecional\"], loc=\"center left\"\n",
    ")"
   ]
  },
  {
   "cell_type": "code",
   "execution_count": null,
   "metadata": {},
   "outputs": [],
   "source": [
    "from io import StringIO\n",
    "\n",
    "# gracias a https://github.com/hafen/geofacet/issues/148\n",
    "scl_grid_positions = '''row,col,name,code\n",
    "1,3,QUILICURA,13125\n",
    "1,4,CONCHALÍ,13104\n",
    "1,7,HUECHURABA,13107\n",
    "1,8,LO BARNECHEA,13115\n",
    "2,3,RENCA,13128\n",
    "2,4,QUINTA NORMAL,13126\n",
    "2,5,INDEPENDENCIA,13108\n",
    "2,6,RECOLETA,13127\n",
    "2,7,VITACURA,13132\n",
    "2,8,LAS CONDES,13114\n",
    "3,2,PUDAHUEL,13124\n",
    "3,3,CERRO NAVIA,13103\n",
    "3,4,ESTACIÓN CENTRAL,13106\n",
    "3,5,SANTIAGO,13101\n",
    "3,6,PROVIDENCIA,13123\n",
    "3,7,ÑUÑOA,13120\n",
    "3,8,LA REINA,13113\n",
    "4,3,LO PRADO,13117\n",
    "4,4,PEDRO AGUIRRE CERDA,13121\n",
    "4,5,SAN MIGUEL,13130\n",
    "4,6,MACUL,13118\n",
    "4,7,PEÑALOLÉN,13122\n",
    "5,2,MAIPÚ,13119\n",
    "5,3,CERRILLOS,13102\n",
    "5,4,LO ESPEJO,13116\n",
    "5,5,LA CISTERNA,13109\n",
    "5,6,SAN JOAQUÍN,13129\n",
    "5,7,LA FLORIDA,13110\n",
    "6,1,PADRE HURTADO,13604\n",
    "6,4,EL BOSQUE,13105\n",
    "6,5,SAN RAMÓN,13131\n",
    "6,6,LA GRANJA,13111\n",
    "6,7,PUENTE ALTO,13201\n",
    "6,8,SAN JOSÉ DE MAIPO,13203\n",
    "7,4,SAN BERNARDO,13401\n",
    "7,5,LA PINTANA,13112\n",
    "7,6,PIRQUE,13202'''\n",
    "\n",
    "scl_grid_positions = pd.read_csv(StringIO(scl_grid_positions))\n",
    "scl_grid_positions"
   ]
  },
  {
   "cell_type": "code",
   "execution_count": null,
   "metadata": {},
   "outputs": [],
   "source": [
    "comuna_x_grid = scl_grid_positions.set_index(['row', 'col'])['name'].str.title().to_dict()\n",
    "comuna_x_grid"
   ]
  },
  {
   "cell_type": "code",
   "execution_count": null,
   "metadata": {},
   "outputs": [],
   "source": [
    "activities_per_municipality"
   ]
  },
  {
   "cell_type": "code",
   "execution_count": null,
   "metadata": {},
   "outputs": [],
   "source": [
    "comuna_x_grid[(4, 4)] in activities_per_municipality.index"
   ]
  },
  {
   "cell_type": "code",
   "execution_count": null,
   "metadata": {},
   "outputs": [],
   "source": [
    "n_rows = scl_grid_positions['row'].max()\n",
    "n_cols = scl_grid_positions['col'].max()\n",
    "\n",
    "fig, axes = plt.subplots(n_rows, n_cols, figsize=(7,7))\n",
    "\n",
    "for ax in axes.flatten():\n",
    "    ax.set_axis_off()\n",
    "\n",
    "for i in range(n_rows):\n",
    "    for j in range(n_cols):\n",
    "        pos = (i + 1, j + 1)\n",
    "        if not pos in comuna_x_grid:\n",
    "            continue\n",
    "        if not comuna_x_grid[pos] in activities_per_municipality.index:\n",
    "            continue\n",
    "        \n",
    "        #print(i, j, comuna_x_grid[pos], activities_per_municipality.loc[comuna_x_grid[pos]])\n",
    "\n",
    "        ax = axes[i,j]\n",
    "\n",
    "        ax.pie(\n",
    "            activities_per_municipality.loc[comuna_x_grid[pos]][[\"Mantención\", \"Subsistencia\", \"Discrecional\"]].values,\n",
    "            wedgeprops=dict(edgecolor=\"black\", linewidth=0.5),\n",
    "            colors=cat_colors[:3],\n",
    "        )\n",
    "\n",
    "        ax.set_title(comuna_x_grid[pos])\n",
    "\n",
    "\n",
    "fig.align_titles()\n",
    "\n",
    "categorical_color_legend(\n",
    "    axes[n_rows-1,0], cat_colors[:3], [\"Mantención\", \"Subsistencia\", \"Discrecional\"], loc=\"center left\"\n",
    ")"
   ]
  },
  {
   "cell_type": "code",
   "execution_count": null,
   "metadata": {},
   "outputs": [],
   "source": []
  },
  {
   "cell_type": "markdown",
   "metadata": {},
   "source": [
    "## _Widgets_ interactivos"
   ]
  },
  {
   "cell_type": "code",
   "execution_count": null,
   "metadata": {},
   "outputs": [],
   "source": [
    "%matplotlib ipympl"
   ]
  },
  {
   "cell_type": "code",
   "execution_count": null,
   "metadata": {},
   "outputs": [],
   "source": [
    "import numpy as np"
   ]
  },
  {
   "cell_type": "code",
   "execution_count": null,
   "metadata": {},
   "outputs": [],
   "source": [
    "import ipywidgets as widgets"
   ]
  },
  {
   "cell_type": "code",
   "execution_count": null,
   "metadata": {},
   "outputs": [],
   "source": [
    "from IPython.display import display, clear_output\n",
    "\n",
    "\n",
    "class ODMatrix(widgets.HBox):\n",
    "\n",
    "    def __init__(self, df):\n",
    "        super().__init__()\n",
    "        self.df = df\n",
    "        self.output = widgets.Output()\n",
    "        self.proposito = []\n",
    "        self.modos = []\n",
    "        self.transformacion = \"\"\n",
    "        self.fig = None\n",
    "        self.ax = None\n",
    "\n",
    "        self.row_order = sorted(self.df[\"ComunaOrigen\"].unique())\n",
    "\n",
    "        controls = self.create_control_panel()\n",
    "        self.children = [controls, self.output]\n",
    "\n",
    "    def create_control_panel(self):\n",
    "        widget_proposito = widgets.Dropdown(\n",
    "            options=['Todos'] + list(tabla[\"Proposito\"].unique()),\n",
    "            description=\"Propósito:\",\n",
    "            disabled=False,\n",
    "        )\n",
    "\n",
    "        widget_modo = widgets.SelectMultiple(\n",
    "            options=['Todos'] + list(tabla[\"ModoDifusion\"].unique()),\n",
    "            description=\"Modo de transporte:\",\n",
    "            disabled=False,\n",
    "        )\n",
    "\n",
    "        widget_proposito.observe(self.update_proposito, \"value\")\n",
    "        widget_modo.observe(self.update_modo, \"value\")\n",
    "\n",
    "        return widgets.VBox([widget_proposito, widget_modo])\n",
    "\n",
    "    def update_proposito(self, change):\n",
    "        self.proposito = change[\"new\"]\n",
    "        self.plot()\n",
    "\n",
    "    def update_modo(self, change):\n",
    "        self.modos = list(change[\"new\"])\n",
    "        self.plot()\n",
    "\n",
    "    def plot(self):\n",
    "        with self.output:\n",
    "            clear_output(wait=True)\n",
    "            if self.fig:\n",
    "                self.fig.clf()\n",
    "                self.ax = None\n",
    "\n",
    "            self.fig, self.ax = plt.subplots(figsize=(6, 6))\n",
    "\n",
    "            viajes = self.df\n",
    "            if self.proposito and not self.proposito == 'Todos':\n",
    "                viajes = viajes[viajes[\"Proposito\"] == self.proposito]\n",
    "            if self.modos and not self.modos[0] == 'Todos':\n",
    "                viajes = viajes[viajes[\"ModoDifusion\"].isin(self.modos)]\n",
    "\n",
    "            matriz = (\n",
    "                viajes.groupby([\"ComunaOrigen\", \"ComunaDestino\"])[\"Peso\"]\n",
    "                .sum()\n",
    "                .unstack(fill_value=0)\n",
    "                .pipe(normalize_rows)\n",
    "                .join(pd.DataFrame(index=self.row_order), how='outer')\n",
    "                .fillna(0)\n",
    "            )\n",
    "\n",
    "            for col in self.row_order:\n",
    "                if not col in matriz.columns:\n",
    "                    matriz[col] = 0\n",
    "\n",
    "            matriz = matriz[self.row_order]\n",
    "\n",
    "\n",
    "            sns.heatmap(matriz, ax=self.ax, cbar=False, cmap=res)\n",
    "            self.ax.set_title(\n",
    "                f\"Matriz OD {self.transformacion}\\n{repr(self.proposito)} / {repr(self.modos)}\"\n",
    "            )\n",
    "\n",
    "            self.ax.set_xlabel('Comuna de Destino')\n",
    "            self.ax.set_ylabel('Comuna de Origen')\n",
    "\n",
    "            # esto evita que lo muestre el notebook debajo de los widgets.\n",
    "            plt.close()\n",
    "\n",
    "            # esto muestra la figura _en_ el widget\n",
    "            display(self.fig)\n",
    "            \n",
    "\n",
    "\n",
    "ODMatrix(tabla)"
   ]
  },
  {
   "cell_type": "code",
   "execution_count": null,
   "metadata": {},
   "outputs": [],
   "source": []
  }
 ],
 "metadata": {
  "kernelspec": {
   "display_name": "chiricoca",
   "language": "python",
   "name": "python3"
  },
  "language_info": {
   "codemirror_mode": {
    "name": "ipython",
    "version": 3
   },
   "file_extension": ".py",
   "mimetype": "text/x-python",
   "name": "python",
   "nbconvert_exporter": "python",
   "pygments_lexer": "ipython3",
   "version": "3.13.5"
  }
 },
 "nbformat": 4,
 "nbformat_minor": 2
}
