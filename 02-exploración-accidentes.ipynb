{
 "cells": [
  {
   "cell_type": "markdown",
   "metadata": {},
   "source": [
    "# Análisis exploratorio (para el proyecto)\n",
    "\n",
    "## Antes de partir...\n",
    "\n",
    "### Requisitos\n",
    "\n",
    "Usaremos los datos disponibles en [CONASET](https://mapas-conaset.opendata.arcgis.com/)."
   ]
  },
  {
   "cell_type": "markdown",
   "metadata": {},
   "source": [
    "## Propuesta de proyecto\n",
    "\n",
    "Esta podría ser una propuesta de proyecto inicial:\n",
    "\n",
    "* **Situación**: La congestión y el tráfico en las ciudades es un fenómeno natural que emerge de las distintas actividades urbanas y su concentración espacial.\n",
    "* **Complicación**: El transporte de personas también conlleva accidentes, con la correspondiente pérdida de vidas, problemas de salud y lesiones a las personas involucradas, daño a la propiedad pública y privada, y costo de tiempo a personas no involucradas.\n",
    "* **Propuesta**: Caracterizar la accidentabilidad en Santiago para apoyar el diseño de políticas públicas que reduzcan la cantidad de accidentes.\n",
    "\n",
    "Realizaremos un análisis exploratorio para ver su factibilidad e iterar  su definición."
   ]
  },
  {
   "cell_type": "markdown",
   "metadata": {},
   "source": [
    "## Bibliotecas necesarias"
   ]
  },
  {
   "cell_type": "code",
   "execution_count": null,
   "metadata": {},
   "outputs": [],
   "source": [
    "# para datos\n",
    "import numpy as np\n",
    "import pandas as pd\n",
    "import geopandas as gpd\n",
    "import requests\n",
    "from pathlib import Path\n",
    "\n",
    "# visualización en Python\n",
    "import seaborn as sns\n",
    "import matplotlib.pyplot as plt\n",
    "\n",
    "from chiricoca.config import setup_style\n",
    "\n",
    "setup_style()"
   ]
  },
  {
   "cell_type": "markdown",
   "metadata": {},
   "source": [
    "## Construcción del dataset\n",
    "\n",
    "Construir el dataset también involucra descargarlo y almacenarlo.\n",
    "\n",
    "Lo descargamos [aquí](https://mapas-conaset.opendata.arcgis.com/search?categories=%252Fcategories%252Fregiones-%252Fregi%25C3%25B3n%2520metropolitana%2520de%2520santiago&groupIds=fca1f61c6556499db843c09cc80c70c0), o con el código que está más abajo ;)"
   ]
  },
  {
   "cell_type": "code",
   "execution_count": null,
   "metadata": {},
   "outputs": [],
   "source": [
    "data_path = Path(\"data\") / \"conaset\"\n",
    "\n",
    "if not data_path.exists():\n",
    "    data_path.mkdir(parents=True)"
   ]
  },
  {
   "cell_type": "code",
   "execution_count": null,
   "metadata": {},
   "outputs": [],
   "source": [
    "urls = {\n",
    "    '2019': 'https://hub.arcgis.com/api/v3/datasets/58cbd7c35ad14cfd955b1afa3a2b62fd_0/downloads/data?format=geojson&spatialRefId=4326&where=1%3D1',\n",
    "    '2020': 'https://hub.arcgis.com/api/v3/datasets/213520f62eb443dd9bdc3398c617a811_0/downloads/data?format=geojson&spatialRefId=4326&where=1%3D1',\n",
    "    '2021': 'https://hub.arcgis.com/api/v3/datasets/4b636b2f27164b0ebbeca0ab9db4d08a_0/downloads/data?format=geojson&spatialRefId=4326&where=1%3D1',\n",
    "    '2022': 'https://hub.arcgis.com/api/v3/datasets/88dd8179f726431da91f3ef4847a8dd2_0/downloads/data?format=geojson&spatialRefId=4326&where=1%3D1',\n",
    "    '2023': 'https://hub.arcgis.com/api/v3/datasets/30467ae1a8ef4708b64a4273b3672138_0/downloads/data?format=geojson&spatialRefId=4326&where=1%3D1',\n",
    "}\n",
    "\n",
    "files = {}\n",
    "\n",
    "for year, url in urls.items():\n",
    "    file_path = data_path / f\"{year}-rm-car-accidents.json\"\n",
    "    files[year] = file_path\n",
    "    if not file_path.exists():\n",
    "        r = requests.get(url)\n",
    "        with open(file_path, 'wt') as f:\n",
    "            f.write(r.text)"
   ]
  },
  {
   "cell_type": "code",
   "execution_count": null,
   "metadata": {},
   "outputs": [],
   "source": [
    "gdf = {year: gpd.read_file(x, dtypes={'Fecha': 'str', 'Hora': 'str'}).to_crs('epsg:5361') for year, x in files.items()}\n",
    "gdf"
   ]
  },
  {
   "cell_type": "markdown",
   "metadata": {},
   "source": [
    "## Limpiado, Filtrado y Pre-Procesamiento"
   ]
  },
  {
   "cell_type": "code",
   "execution_count": null,
   "metadata": {},
   "outputs": [],
   "source": [
    "fig, axes = plt.subplots(1, 5)\n",
    "\n",
    "for ax, year in zip(axes, files):\n",
    "    gdf[year].plot(ax=ax, marker='.', markersize=1, alpha=0.01)\n",
    "    ax.set_aspect('equal')\n",
    "    ax.set_title(year)\n"
   ]
  },
  {
   "cell_type": "code",
   "execution_count": null,
   "metadata": {},
   "outputs": [],
   "source": [
    "#gdf['2019'].groupby('Fecha').size().plot()\n",
    "#gdf['2019'].rolling(14, on='Fecha').mean()"
   ]
  },
  {
   "cell_type": "code",
   "execution_count": null,
   "metadata": {},
   "outputs": [],
   "source": [
    "fig, axes = plt.subplots(5, 1, figsize=(6, 12))\n",
    "\n",
    "for ax, year in zip(axes, files):\n",
    "    try:\n",
    "        gdf[year].groupby('Fecha').size().plot(ax=ax)\n",
    "    except Exception as e:\n",
    "        pass\n",
    "    ax.set_title(year)\n",
    "    ax.set_xlabel('')"
   ]
  },
  {
   "cell_type": "code",
   "execution_count": null,
   "metadata": {},
   "outputs": [],
   "source": [
    "gdf['2022'][['Fecha', 'Hora']]"
   ]
  },
  {
   "cell_type": "code",
   "execution_count": null,
   "metadata": {},
   "outputs": [],
   "source": [
    "gdf['2022']['Fecha'].describe()"
   ]
  },
  {
   "cell_type": "code",
   "execution_count": null,
   "metadata": {},
   "outputs": [],
   "source": [
    "gdf['2022']['Fecha'].max() - gdf['2022']['Fecha'].min()"
   ]
  },
  {
   "cell_type": "code",
   "execution_count": null,
   "metadata": {},
   "outputs": [],
   "source": [
    "gdf['2022']['Fecha'].head().map(lambda x: pd.Timedelta(x, unit='days')) + pd.to_datetime('1900-01-01')"
   ]
  },
  {
   "cell_type": "code",
   "execution_count": null,
   "metadata": {},
   "outputs": [],
   "source": [
    "gdf['2022']['Fecha_original'] = gdf['2022']['Fecha']"
   ]
  },
  {
   "cell_type": "code",
   "execution_count": null,
   "metadata": {},
   "outputs": [],
   "source": [
    "gdf[\"2022\"][\"Fecha\"] = gdf[\"2022\"][\"Fecha_original\"].map(\n",
    "    lambda x: pd.Timedelta(x - 2, unit=\"days\")\n",
    ") + pd.to_datetime(\"1900-01-01\", utc=True)\n",
    "gdf['2022']['Fecha'].describe()"
   ]
  },
  {
   "cell_type": "code",
   "execution_count": null,
   "metadata": {},
   "outputs": [],
   "source": [
    "fig, axes = plt.subplots(5, 1)\n",
    "\n",
    "for ax, year in zip(axes, files):\n",
    "    try:\n",
    "        gdf[year].groupby('Fecha').size().plot(ax=ax)\n",
    "    except Exception as e:\n",
    "        pass\n",
    "    ax.set_title(year)\n",
    "    ax.set_xlabel('')"
   ]
  },
  {
   "cell_type": "code",
   "execution_count": null,
   "metadata": {},
   "outputs": [],
   "source": [
    "for year, values in gdf.items():\n",
    "    result = pd.isna(values).astype(int).describe().loc['mean']\n",
    "    print(result)"
   ]
  },
  {
   "cell_type": "code",
   "execution_count": null,
   "metadata": {},
   "outputs": [],
   "source": [
    "accidents = pd.concat(gdf.values())"
   ]
  },
  {
   "cell_type": "code",
   "execution_count": null,
   "metadata": {},
   "outputs": [],
   "source": [
    "accidents.groupby('Fecha').size().plot()"
   ]
  },
  {
   "cell_type": "code",
   "execution_count": null,
   "metadata": {},
   "outputs": [],
   "source": [
    "null_test = pd.isna(accidents).astype(int).describe().loc['mean']\n",
    "fig, ax = plt.subplots(figsize=(6, 9))\n",
    "null_test[null_test > 0].sort_values().plot(kind='barh', linewidth=1, width=0.9)"
   ]
  },
  {
   "cell_type": "code",
   "execution_count": null,
   "metadata": {},
   "outputs": [],
   "source": [
    "accidents.filter(like='Cau').sample(10)"
   ]
  },
  {
   "cell_type": "code",
   "execution_count": null,
   "metadata": {},
   "outputs": [],
   "source": [
    "len(accidents)"
   ]
  },
  {
   "cell_type": "code",
   "execution_count": null,
   "metadata": {},
   "outputs": [],
   "source": [
    "accidents['Causa'].describe()"
   ]
  },
  {
   "cell_type": "code",
   "execution_count": null,
   "metadata": {},
   "outputs": [],
   "source": [
    "accidents['Causa__CON'].describe()"
   ]
  },
  {
   "cell_type": "code",
   "execution_count": null,
   "metadata": {},
   "outputs": [],
   "source": [
    "accidents.filter(like='Ubi').sample(10)"
   ]
  },
  {
   "cell_type": "code",
   "execution_count": null,
   "metadata": {},
   "outputs": [],
   "source": [
    "accidents['Ubicación'].describe()"
   ]
  },
  {
   "cell_type": "code",
   "execution_count": null,
   "metadata": {},
   "outputs": [],
   "source": [
    "accidents.filter(like='TIPO').sample(10)"
   ]
  },
  {
   "cell_type": "code",
   "execution_count": null,
   "metadata": {},
   "outputs": [],
   "source": [
    "accidents.filter(like='Tip').sample(10)"
   ]
  },
  {
   "cell_type": "code",
   "execution_count": null,
   "metadata": {},
   "outputs": [],
   "source": [
    "accidents['Tipo__CONA'].describe()"
   ]
  },
  {
   "cell_type": "code",
   "execution_count": null,
   "metadata": {},
   "outputs": [],
   "source": [
    "accidents['Tipo_Accid'].describe()"
   ]
  },
  {
   "cell_type": "code",
   "execution_count": null,
   "metadata": {},
   "outputs": [],
   "source": [
    "accidents.columns"
   ]
  },
  {
   "cell_type": "code",
   "execution_count": null,
   "metadata": {},
   "outputs": [],
   "source": [
    "len(accidents)\n",
    "for values in gdf.values():\n",
    "    print(len(values))"
   ]
  },
  {
   "cell_type": "code",
   "execution_count": null,
   "metadata": {},
   "outputs": [],
   "source": [
    "fig, ax = plt.subplots()\n",
    "\n",
    "sns.heatmap(\n",
    "    accidents[[\"Fallecidos\", \"Graves\", \"Menos_Grav\", \"Leves\", \"Ilesos\", \"Lesionados\"]],\n",
    "    ax=ax,\n",
    "    yticklabels=False,\n",
    ")"
   ]
  },
  {
   "cell_type": "code",
   "execution_count": null,
   "metadata": {},
   "outputs": [],
   "source": [
    "fig, ax = plt.subplots()\n",
    "\n",
    "sns.heatmap(\n",
    "    accidents[[\"Fallecidos\", \"Graves\", \"Menos_Grav\", \"Leves\", \"Ilesos\", \"Lesionados\"]],\n",
    "    ax=ax,\n",
    "    yticklabels=False,\n",
    ")\n",
    "\n",
    "ymin = 0\n",
    "props = dict(\n",
    "    connectionstyle=\"angle, angleA=90, angleB=180, rad=0\",\n",
    "    arrowstyle=\"-\",\n",
    "    shrinkA=10,\n",
    "    shrinkB=10,\n",
    "    color=\"black\",\n",
    "    lw=1,\n",
    ")\n",
    "\n",
    "for year, values in gdf.items():\n",
    "    ymax = ymin + len(values)\n",
    "    x = 0\n",
    "    dy = len(values)\n",
    "    dx = -0.5\n",
    "\n",
    "    ax.annotate(\n",
    "        year,\n",
    "        xy=(x, ymin),\n",
    "        xytext=(x + dx, ymin + dy / 2),\n",
    "        annotation_clip=False,\n",
    "        arrowprops=props,\n",
    "    )\n",
    "    ax.annotate(\n",
    "        year,\n",
    "        xy=(x, ymax),\n",
    "        xytext=(x + dx, ymin + dy / 2),\n",
    "        annotation_clip=False,\n",
    "        alpha=0,\n",
    "        arrowprops=props,\n",
    "    )\n",
    "\n",
    "    ymin = ymax\n",
    "    # break"
   ]
  },
  {
   "cell_type": "code",
   "execution_count": null,
   "metadata": {},
   "outputs": [],
   "source": [
    "sns.heatmap(pd.notnull(accidents[['Comuna', 'Comuna_1', 'COMUNAREAL']]))"
   ]
  },
  {
   "cell_type": "code",
   "execution_count": null,
   "metadata": {},
   "outputs": [],
   "source": [
    "accidents['comuna'] = accidents['Comuna']\n",
    "accidents.loc[pd.isnull(accidents['comuna']),'comuna'] = accidents['COMUNAREAL'][pd.isnull(accidents['comuna'])]\n",
    "accidents.loc[pd.isnull(accidents['comuna']),'comuna'] = accidents['Comuna_1'][pd.isnull(accidents['comuna'])]\n",
    "accidents['comuna'].describe()"
   ]
  },
  {
   "cell_type": "markdown",
   "metadata": {},
   "source": [
    "## Filtrar"
   ]
  },
  {
   "cell_type": "markdown",
   "metadata": {},
   "source": [
    "En http://bboxfinder.com podemos definir una _caja contenedora_ (_bounding box_) para área de análisis.\\\n",
    "CRS = Coordinate Reference System"
   ]
  },
  {
   "cell_type": "code",
   "execution_count": null,
   "metadata": {},
   "outputs": [],
   "source": [
    "from chiricoca.geo.utils import clip_point_geodataframe"
   ]
  },
  {
   "cell_type": "code",
   "execution_count": null,
   "metadata": {},
   "outputs": [],
   "source": [
    "scl_bounds = [-70.88006218, -33.67612715, -70.43015094, -33.31069169]"
   ]
  },
  {
   "cell_type": "code",
   "execution_count": null,
   "metadata": {},
   "outputs": [],
   "source": [
    "scl = clip_point_geodataframe(accidents.to_crs('epsg:4326'), scl_bounds).to_crs(accidents.crs)\n",
    "scl.plot(marker='.', markersize=1, column='comuna')"
   ]
  },
  {
   "cell_type": "code",
   "execution_count": null,
   "metadata": {},
   "outputs": [],
   "source": [
    "scl['month'] = scl['Fecha'].dt.month\n",
    "scl['year'] = scl['Fecha'].dt.year\n",
    "scl['day_of_week'] = scl['Fecha'].dt.dayofweek"
   ]
  },
  {
   "cell_type": "code",
   "execution_count": null,
   "metadata": {},
   "outputs": [],
   "source": [
    "len(scl)"
   ]
  },
  {
   "cell_type": "markdown",
   "metadata": {},
   "source": [
    "## ¿Qué contiene?"
   ]
  },
  {
   "cell_type": "code",
   "execution_count": null,
   "metadata": {},
   "outputs": [],
   "source": [
    "scl[\"Tipo_Accid\"].value_counts().sort_values(ascending=True).plot(\n",
    "    kind=\"barh\", linewidth=0, width=0.9\n",
    ")"
   ]
  },
  {
   "cell_type": "code",
   "execution_count": null,
   "metadata": {},
   "outputs": [],
   "source": [
    "fig, ax = plt.subplots(figsize=(6,6))\n",
    "\n",
    "scl[\"Causa\"].value_counts().sort_values(ascending=True).plot(\n",
    "    kind=\"barh\", linewidth=0, width=0.9, ax=ax, logx=True\n",
    ")"
   ]
  },
  {
   "cell_type": "code",
   "execution_count": null,
   "metadata": {},
   "outputs": [],
   "source": [
    "fig, ax = plt.subplots(figsize=(6,2))\n",
    "\n",
    "scl[\"Causa__CON\"].value_counts().sort_values(ascending=True).plot(\n",
    "    kind=\"barh\", linewidth=0, width=0.9, ax=ax, logx=True\n",
    ")"
   ]
  },
  {
   "cell_type": "code",
   "execution_count": null,
   "metadata": {},
   "outputs": [],
   "source": [
    "victimas = scl[[\"Fallecidos\", \"Graves\", \"Menos_Grav\", \"Leves\"]].assign(\n",
    "    total=lambda x: x.sum(axis=1)\n",
    ").groupby(\"total\").sum().drop(0)\n",
    "\n",
    "victimas"
   ]
  },
  {
   "cell_type": "code",
   "execution_count": null,
   "metadata": {},
   "outputs": [],
   "source": [
    "victimas.sum(axis=1).plot(kind='bar', width=0.95, linewidth=0)"
   ]
  },
  {
   "cell_type": "code",
   "execution_count": null,
   "metadata": {},
   "outputs": [],
   "source": [
    "victimas.plot(\n",
    "    kind=\"bar\", logy=True, linewidth=0, width=0.9\n",
    ")"
   ]
  },
  {
   "cell_type": "code",
   "execution_count": null,
   "metadata": {},
   "outputs": [],
   "source": [
    "from chiricoca.base.weights import normalize_rows\n",
    "victimas.pipe(normalize_rows)"
   ]
  },
  {
   "cell_type": "code",
   "execution_count": null,
   "metadata": {},
   "outputs": [],
   "source": [
    "from chiricoca.base.weights import normalize_rows\n",
    "\n",
    "fig, ax = plt.subplots()\n",
    "\n",
    "victimas.pipe(normalize_rows).plot(\n",
    "    kind=\"bar\", stacked=True, linewidth=0, width=0.9, ax=ax\n",
    ")\n",
    "\n",
    "ax.set_ylim([0,1])"
   ]
  },
  {
   "attachments": {},
   "cell_type": "markdown",
   "metadata": {},
   "source": [
    "## ¿Cuándo?"
   ]
  },
  {
   "cell_type": "code",
   "execution_count": null,
   "metadata": {},
   "outputs": [],
   "source": [
    "fig, ax = plt.subplots(figsize=(9, 2))\n",
    "scl.resample('1W', on='Fecha').size().plot(linewidth=0.5)"
   ]
  },
  {
   "cell_type": "code",
   "execution_count": null,
   "metadata": {},
   "outputs": [],
   "source": [
    "scl.groupby(['year', 'day_of_week']).size().unstack().pipe(normalize_rows)"
   ]
  },
  {
   "cell_type": "code",
   "execution_count": null,
   "metadata": {},
   "outputs": [],
   "source": [
    "sns.heatmap(scl.groupby(['year', 'day_of_week']).size().unstack().pipe(normalize_rows), annot=True, linewidth=1, fmt='.4f')"
   ]
  },
  {
   "attachments": {},
   "cell_type": "markdown",
   "metadata": {},
   "source": [
    "## ¿Dónde?"
   ]
  },
  {
   "cell_type": "code",
   "execution_count": null,
   "metadata": {},
   "outputs": [],
   "source": [
    "scl['victimas'] = scl[[\"Fallecidos\", \"Graves\", \"Menos_Grav\"]].sum(axis=1)"
   ]
  },
  {
   "cell_type": "code",
   "execution_count": null,
   "metadata": {},
   "outputs": [],
   "source": [
    "from chiricoca.maps import heat_map\n",
    "from chiricoca.geo.figures import small_multiples_from_geodataframe\n",
    "\n",
    "fig, axes = small_multiples_from_geodataframe(scl, 2)\n",
    "\n",
    "heat_map(scl, bandwidth=0.005, low_threshold=0.005, ax=axes[0])\n",
    "heat_map(scl, weight=\"victimas\", bandwidth=0.005, low_threshold=0.005, ax=axes[1])"
   ]
  },
  {
   "attachments": {},
   "cell_type": "markdown",
   "metadata": {},
   "source": [
    "## ¿Cómo?"
   ]
  },
  {
   "cell_type": "code",
   "execution_count": null,
   "metadata": {},
   "outputs": [],
   "source": [
    "tipo_por_comuna = (\n",
    "    scl.groupby([\"comuna\", \"Tipo__CONA\"]).size()\n",
    "    .unstack(fill_value=0)\n",
    ")\n",
    "\n",
    "tipo_por_comuna\n"
   ]
  },
  {
   "cell_type": "code",
   "execution_count": null,
   "metadata": {},
   "outputs": [],
   "source": [
    "from chiricoca.tables import barchart\n",
    "\n",
    "barchart(\n",
    "    tipo_por_comuna,\n",
    "    stacked=True,\n",
    "    sort_items=True,\n",
    "    normalize=True,\n",
    "    horizontal=True,\n",
    "    palette=\"cubehelix\"\n",
    ")"
   ]
  },
  {
   "cell_type": "code",
   "execution_count": null,
   "metadata": {},
   "outputs": [],
   "source": [
    "sns.heatmap(\n",
    "    scl.groupby([\"Causa__CON\", \"day_of_week\"])\n",
    "    .size()\n",
    "    .unstack(fill_value=0)\n",
    "    .pipe(normalize_rows), annot=True, fmt='.4f', linewidth=1, cbar=False\n",
    ")"
   ]
  },
  {
   "cell_type": "code",
   "execution_count": null,
   "metadata": {},
   "outputs": [],
   "source": [
    "sns.pointplot(scl, x='month', y='victimas')"
   ]
  },
  {
   "cell_type": "code",
   "execution_count": null,
   "metadata": {},
   "outputs": [],
   "source": [
    "sns.pointplot(scl[scl['victimas'] > 0], x='month', y='victimas', hue='year', dodge=True)"
   ]
  },
  {
   "cell_type": "code",
   "execution_count": null,
   "metadata": {},
   "outputs": [],
   "source": [
    "scl.groupby(\"Causa__CON\")[\"victimas\"].mean().sort_values(ascending=True).plot(\n",
    "     kind=\"barh\", cmap=\"viridis\", linewidth=0, width=0.9\n",
    ")"
   ]
  },
  {
   "cell_type": "code",
   "execution_count": null,
   "metadata": {},
   "outputs": [],
   "source": [
    "#sns.boxplot(scl, x='victimas', y='Causa__CON')"
   ]
  },
  {
   "cell_type": "code",
   "execution_count": null,
   "metadata": {},
   "outputs": [],
   "source": [
    "fig, axes = plt.subplots(3, 1, figsize=(9, 9))\n",
    "\n",
    "mean_accidents = (\n",
    "    lambda name, x: x.resample(\"1d\", on=\"Fecha\")\n",
    "    .size()\n",
    "    # [\"victimas\"].sum()\n",
    "    .rolling(28, center=True)\n",
    "    .mean()\n",
    "    .rename(name)\n",
    "    .to_frame()\n",
    "    .apply(lambda x: (x - x.mean()) / x.std())\n",
    ")\n",
    "\n",
    "for ax, cat in zip(axes, [\"COLISION\", \"CHOQUE\", \"ATROPELLO\"]):\n",
    "    # print(g)\n",
    "    g = scl[scl[\"Tipo__CONA\"] == cat]\n",
    "    mean_accidents(\"all\", scl).plot(ax=ax, color=\"grey\", linewidth=0.5, legend=False)\n",
    "    mean_accidents(cat, g).plot(ax=ax, linewidth=1.5, color=\"purple\", legend=False)\n",
    "    ax.set_title(cat)\n",
    "    sns.despine(ax=ax, left=True, bottom=True)\n",
    "\n",
    "fig.tight_layout()"
   ]
  },
  {
   "cell_type": "markdown",
   "metadata": {},
   "source": [
    "# Entonces...\n",
    "\n",
    "¿Es **factible** hacer algo con estos datos? Sí, aunque pareciera que se debe hacer algo a nivel general. La granularidad espacial es buena, pero temporalmente hay inconsistencias graves. Espacialmente también. Además hay pocos meta-datos de los accidentes relacionados con las condiciones en las que sucedieron, por ej., no se incluye el vehículo o las características de las personas.\n",
    "\n",
    "Quizás lo que más llama la atención es la variación en la proporción de accidentes por día de semana. Ya que tenemos variabilidad espacial y en la proporción de accidentes por día de semana (o bien semana y fin de semana), podríamos iterar nuestro proyecto para que el objetivo sea aportar evidencia para:\n",
    "\n",
    "1. Desarrollar estrategias de reducción de imprudencia de conductores. La tarea a resolver es **encontrar la relación** entre ubicación, accidentes e infraestructura del lugar. Posiblemente se requieran datos adicionales sobre el entorno construido;\n",
    "2. Intensificar controles de alcoholemia los fines de semana. La tarea a resolver es **identificar** puntos críticos de accidentes en tipos de días específicos.\n",
    "   \n",
    "¡En estos casos, el proyecto parece factible!\n",
    "\n",
    "¿Propones otros análisis futuros?"
   ]
  }
 ],
 "metadata": {
  "kernelspec": {
   "display_name": "aves",
   "language": "python",
   "name": "python3"
  },
  "language_info": {
   "codemirror_mode": {
    "name": "ipython",
    "version": 3
   },
   "file_extension": ".py",
   "mimetype": "text/x-python",
   "name": "python",
   "nbconvert_exporter": "python",
   "pygments_lexer": "ipython3",
   "version": "3.11.6"
  },
  "orig_nbformat": 4
 },
 "nbformat": 4,
 "nbformat_minor": 2
}
